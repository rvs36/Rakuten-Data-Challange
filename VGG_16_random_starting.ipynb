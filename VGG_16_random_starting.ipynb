{
 "cells": [
  {
   "cell_type": "code",
   "execution_count": 1,
   "metadata": {},
   "outputs": [
    {
     "name": "stderr",
     "output_type": "stream",
     "text": [
      "Using TensorFlow backend.\n"
     ]
    }
   ],
   "source": [
    "# import required packages\n",
    "\n",
    "import os\n",
    "import itertools\n",
    "import sys\n",
    "\n",
    "from collections import Counter\n",
    "from pathlib import Path\n",
    "\n",
    "import matplotlib.pyplot as plt\n",
    "import numpy as np\n",
    "import pandas as pd\n",
    "import seaborn as sns\n",
    "\n",
    "from keras import backend as K\n",
    "from keras.callbacks import Callback\n",
    "from keras.layers import Dense\n",
    "from keras.models import Model\n",
    "from PIL import Image\n",
    "\n",
    "import keras,os\n",
    "from keras.models import Sequential\n",
    "from keras.layers import Dense, Conv2D, MaxPool2D , Flatten\n",
    "from keras.preprocessing.image import ImageDataGenerator\n",
    "import numpy as np\n",
    "\n",
    "%matplotlib inline"
   ]
  },
  {
   "cell_type": "code",
   "execution_count": 2,
   "metadata": {},
   "outputs": [],
   "source": [
    "# Import training and testing data + rename label column\n",
    "X_train = pd.read_csv('./X_train_update.csv', index_col=0)\n",
    "\n",
    "y_train = pd.read_csv('./Y_train_CVw08PX.csv', index_col=0)\n",
    "y_train = y_train.rename(columns={\"prdtypecode\": \"label\"})\n",
    "\n",
    "X_test = pd.read_csv('./X_test_update.csv', index_col=0)\n",
    "\n"
   ]
  },
  {
   "cell_type": "code",
   "execution_count": 3,
   "metadata": {},
   "outputs": [],
   "source": [
    "# Remove unecessary columns and create image id ['img_id']\n",
    "X_train['filename'] = 'image_'+ X_train['imageid'].astype(str) + '_product_' + X_train['productid'].astype(str) + '.jpg'\n",
    "del X_train['designation'], X_train['description'], X_train['productid'], X_train['imageid']\n",
    "\n",
    "X_test['filename'] = 'image_'+ X_test['imageid'].astype(str) + '_product_' + X_test['productid'].astype(str) + '.jpg'\n",
    "del X_test['designation'], X_test['description'], X_test['productid'], X_test['imageid']"
   ]
  },
  {
   "cell_type": "code",
   "execution_count": 4,
   "metadata": {},
   "outputs": [
    {
     "name": "stdout",
     "output_type": "stream",
     "text": [
      "(84916, 1)\n",
      "(84916, 1)\n",
      "(13812, 1)\n"
     ]
    }
   ],
   "source": [
    "print(X_train.shape)\n",
    "print(y_train.shape)\n",
    "print(X_test.shape)"
   ]
  },
  {
   "cell_type": "code",
   "execution_count": 5,
   "metadata": {},
   "outputs": [],
   "source": [
    "# Convert label from string to list of one element (required for the approach)\n",
    "labels_list = []\n",
    "for i in y_train['label']:\n",
    "    label = []\n",
    "    label.append(i)\n",
    "    labels_list.append(label)\n",
    "y_train['label'] = labels_list\n",
    "\n",
    "\n",
    "X_train['label'] = y_train['label']"
   ]
  },
  {
   "cell_type": "markdown",
   "metadata": {},
   "source": [
    "instantiate the ImageDataGenerator"
   ]
  },
  {
   "cell_type": "code",
   "execution_count": 6,
   "metadata": {},
   "outputs": [
    {
     "data": {
      "text/plain": [
       "filename    object\n",
       "label       object\n",
       "dtype: object"
      ]
     },
     "execution_count": 6,
     "metadata": {},
     "output_type": "execute_result"
    }
   ],
   "source": [
    "X_train.dtypes"
   ]
  },
  {
   "cell_type": "code",
   "execution_count": 7,
   "metadata": {},
   "outputs": [],
   "source": [
    "img_gen = ImageDataGenerator(validation_split=0.2)\n"
   ]
  },
  {
   "cell_type": "code",
   "execution_count": 8,
   "metadata": {},
   "outputs": [],
   "source": [
    "images_dir = Path('./data/images/images/image_train')"
   ]
  },
  {
   "cell_type": "code",
   "execution_count": 9,
   "metadata": {},
   "outputs": [
    {
     "name": "stdout",
     "output_type": "stream",
     "text": [
      "Found 67933 validated image filenames belonging to 27 classes.\n"
     ]
    }
   ],
   "source": [
    "img_iter = img_gen.flow_from_dataframe(\n",
    "    X_train,\n",
    "    shuffle=True,\n",
    "    directory=images_dir,\n",
    "    x_col='filename',\n",
    "    y_col='label',\n",
    "    class_mode='categorical',\n",
    "    target_size=(224, 224),\n",
    "    batch_size=100,\n",
    "    subset='training'\n",
    ")"
   ]
  },
  {
   "cell_type": "code",
   "execution_count": 10,
   "metadata": {},
   "outputs": [
    {
     "name": "stdout",
     "output_type": "stream",
     "text": [
      "Found 16983 validated image filenames belonging to 27 classes.\n"
     ]
    }
   ],
   "source": [
    "\n",
    "img_iter_val = img_gen.flow_from_dataframe(\n",
    "    X_train,\n",
    "    shuffle=False,\n",
    "    directory=images_dir,\n",
    "    x_col='filename',\n",
    "    y_col='label',\n",
    "    class_mode='categorical',\n",
    "    target_size=(224, 224),\n",
    "    batch_size=100,\n",
    "    subset='validation'\n",
    ")"
   ]
  },
  {
   "cell_type": "code",
   "execution_count": 11,
   "metadata": {},
   "outputs": [],
   "source": [
    "# h initialising the model by specifying that the model is a sequential model\n",
    "model = Sequential()\n",
    "\n",
    "#2 x convolution layer of 64 channel of 3x3 kernal and same padding\n",
    "model.add(Conv2D(input_shape=(224,224,3),filters=64,kernel_size=(3,3),padding=\"same\", activation=\"relu\"))\n",
    "model.add(Conv2D(filters=64,kernel_size=(3,3),padding=\"same\", activation=\"relu\"))\n",
    "\n",
    "#1 x maxpool layer of 2x2 pool size and stride 2x2\n",
    "model.add(MaxPool2D(pool_size=(2,2),strides=(2,2)))\n",
    "\n",
    "# 2 x convolution layer of 128 channel of 3x3 kernal and same padding\n",
    "model.add(Conv2D(filters=128, kernel_size=(3,3), padding=\"same\", activation=\"relu\"))\n",
    "model.add(Conv2D(filters=128, kernel_size=(3,3), padding=\"same\", activation=\"relu\"))\n",
    "\n",
    "#1 x maxpool layer of 2x2 pool size and stride 2x2\n",
    "model.add(MaxPool2D(pool_size=(2,2),strides=(2,2)))\n",
    "\n",
    "#3 x convolution layer of 256 channel of 3x3 kernal and same padding\n",
    "model.add(Conv2D(filters=256, kernel_size=(3,3), padding=\"same\", activation=\"relu\"))\n",
    "model.add(Conv2D(filters=256, kernel_size=(3,3), padding=\"same\", activation=\"relu\"))\n",
    "model.add(Conv2D(filters=256, kernel_size=(3,3), padding=\"same\", activation=\"relu\"))\n",
    "\n",
    "# 1 x maxpool layer of 2x2 pool size and stride 2x2\n",
    "model.add(MaxPool2D(pool_size=(2,2),strides=(2,2)))\n",
    "\n",
    "#3 x convolution layer of 512 channel of 3x3 kernal and same padding\n",
    "model.add(Conv2D(filters=512, kernel_size=(3,3), padding=\"same\", activation=\"relu\"))\n",
    "model.add(Conv2D(filters=512, kernel_size=(3,3), padding=\"same\", activation=\"relu\"))\n",
    "model.add(Conv2D(filters=512, kernel_size=(3,3), padding=\"same\", activation=\"relu\"))\n",
    "\n",
    "#1 x maxpool layer of 2x2 pool size and stride 2x2\n",
    "model.add(MaxPool2D(pool_size=(2,2),strides=(2,2)))\n",
    "\n",
    "#3 x convolution layer of 512 channel of 3x3 kernal and same padding\n",
    "model.add(Conv2D(filters=512, kernel_size=(3,3), padding=\"same\", activation=\"relu\"))\n",
    "model.add(Conv2D(filters=512, kernel_size=(3,3), padding=\"same\", activation=\"relu\"))\n",
    "model.add(Conv2D(filters=512, kernel_size=(3,3), padding=\"same\", activation=\"relu\"))\n",
    "\n",
    "#1 x maxpool layer of 2x2 pool size and stride 2x2\n",
    "model.add(MaxPool2D(pool_size=(2,2),strides=(2,2)))\n",
    "\n",
    "#flattenig the vector after convolution\n",
    "model.add(Flatten())\n",
    "\n",
    "#1x Dense layer of 4096 units\n",
    "model.add(Dense(units=4096,activation=\"relu\"))\n",
    "\n",
    "#1x Dense layer of 4096 units\n",
    "model.add(Dense(units=4096,activation=\"relu\"))\n",
    "\n",
    "# #1x Dense layer of 4096 units\n",
    "# model.add(Dense(units=4096,activation=\"relu\"))\n",
    "\n",
    "#1 x Dense Softmax layer of 27 units\n",
    "# (because we have 27 classes)\n",
    "model.add(Dense(units=27, activation=\"softmax\"))"
   ]
  },
  {
   "cell_type": "markdown",
   "metadata": {},
   "source": [
    "Note - Precision, Recall and F1  metrics are all global metrics, but Keras works in batches. \n",
    "\n",
    "As a result, it might be more misleading than helpful."
   ]
  },
  {
   "cell_type": "code",
   "execution_count": 12,
   "metadata": {},
   "outputs": [],
   "source": [
    "#compiling the model and manually defining the F1 score\n",
    "\n",
    "from keras import backend as K\n",
    "\n",
    "# def recall_m(y_true, y_pred):\n",
    "#         true_positives = K.sum(K.round(K.clip(y_true * y_pred, 0, 1)))\n",
    "#         possible_positives = K.sum(K.round(K.clip(y_true, 0, 1)))\n",
    "#         recall = true_positives / (possible_positives + K.epsilon())\n",
    "#         return recall\n",
    "\n",
    "# def precision_m(y_true, y_pred):\n",
    "#         true_positives = K.sum(K.round(K.clip(y_true * y_pred, 0, 1)))\n",
    "#         predicted_positives = K.sum(K.round(K.clip(y_pred, 0, 1)))\n",
    "#         precision = true_positives / (predicted_positives + K.epsilon())\n",
    "#         return precision\n",
    "\n",
    "# def f1_m(y_true, y_pred):\n",
    "#     precision = precision_m(y_true, y_pred)\n",
    "#     recall = recall_m(y_true, y_pred)\n",
    "#     return 2*((precision*recall)/(precision+recall+K.epsilon()))\n",
    "\n",
    "# compiling the model\n",
    "\n",
    "from keras.optimizers import Adam\n",
    "opt = Adam(lr=0.0005)\n",
    "model.compile(optimizer=opt, loss=keras.losses.categorical_crossentropy, metrics=['accuracy'])"
   ]
  },
  {
   "cell_type": "markdown",
   "metadata": {},
   "source": [
    "Summarizing the model"
   ]
  },
  {
   "cell_type": "code",
   "execution_count": 13,
   "metadata": {},
   "outputs": [
    {
     "name": "stdout",
     "output_type": "stream",
     "text": [
      "Model: \"sequential_1\"\n",
      "_________________________________________________________________\n",
      "Layer (type)                 Output Shape              Param #   \n",
      "=================================================================\n",
      "conv2d_1 (Conv2D)            (None, 224, 224, 64)      1792      \n",
      "_________________________________________________________________\n",
      "conv2d_2 (Conv2D)            (None, 224, 224, 64)      36928     \n",
      "_________________________________________________________________\n",
      "max_pooling2d_1 (MaxPooling2 (None, 112, 112, 64)      0         \n",
      "_________________________________________________________________\n",
      "conv2d_3 (Conv2D)            (None, 112, 112, 128)     73856     \n",
      "_________________________________________________________________\n",
      "conv2d_4 (Conv2D)            (None, 112, 112, 128)     147584    \n",
      "_________________________________________________________________\n",
      "max_pooling2d_2 (MaxPooling2 (None, 56, 56, 128)       0         \n",
      "_________________________________________________________________\n",
      "conv2d_5 (Conv2D)            (None, 56, 56, 256)       295168    \n",
      "_________________________________________________________________\n",
      "conv2d_6 (Conv2D)            (None, 56, 56, 256)       590080    \n",
      "_________________________________________________________________\n",
      "conv2d_7 (Conv2D)            (None, 56, 56, 256)       590080    \n",
      "_________________________________________________________________\n",
      "max_pooling2d_3 (MaxPooling2 (None, 28, 28, 256)       0         \n",
      "_________________________________________________________________\n",
      "conv2d_8 (Conv2D)            (None, 28, 28, 512)       1180160   \n",
      "_________________________________________________________________\n",
      "conv2d_9 (Conv2D)            (None, 28, 28, 512)       2359808   \n",
      "_________________________________________________________________\n",
      "conv2d_10 (Conv2D)           (None, 28, 28, 512)       2359808   \n",
      "_________________________________________________________________\n",
      "max_pooling2d_4 (MaxPooling2 (None, 14, 14, 512)       0         \n",
      "_________________________________________________________________\n",
      "conv2d_11 (Conv2D)           (None, 14, 14, 512)       2359808   \n",
      "_________________________________________________________________\n",
      "conv2d_12 (Conv2D)           (None, 14, 14, 512)       2359808   \n",
      "_________________________________________________________________\n",
      "conv2d_13 (Conv2D)           (None, 14, 14, 512)       2359808   \n",
      "_________________________________________________________________\n",
      "max_pooling2d_5 (MaxPooling2 (None, 7, 7, 512)         0         \n",
      "_________________________________________________________________\n",
      "flatten_1 (Flatten)          (None, 25088)             0         \n",
      "_________________________________________________________________\n",
      "dense_1 (Dense)              (None, 4096)              102764544 \n",
      "_________________________________________________________________\n",
      "dense_2 (Dense)              (None, 4096)              16781312  \n",
      "_________________________________________________________________\n",
      "dense_3 (Dense)              (None, 27)                110619    \n",
      "=================================================================\n",
      "Total params: 134,371,163\n",
      "Trainable params: 134,371,163\n",
      "Non-trainable params: 0\n",
      "_________________________________________________________________\n"
     ]
    }
   ],
   "source": [
    "model.summary()"
   ]
  },
  {
   "cell_type": "markdown",
   "metadata": {},
   "source": [
    " Import ModelCheckpoint and EarlyStopping method from keras. \n",
    " \n",
    " Will create an object of both and pass that as callback functions to fit_generator"
   ]
  },
  {
   "cell_type": "code",
   "execution_count": 15,
   "metadata": {
    "scrolled": false
   },
   "outputs": [
    {
     "name": "stdout",
     "output_type": "stream",
     "text": [
      "Epoch 1/50\n",
      "100/100 [==============================] - 160s 2s/step - loss: 3.0941 - accuracy: 0.1234 - val_loss: 3.0230 - val_accuracy: 0.1430\n",
      "\n",
      "Epoch 00001: val_accuracy improved from -inf to 0.14300, saving model to ./data/VGG16_1.hdf5\n",
      "Epoch 2/50\n",
      "100/100 [==============================] - 159s 2s/step - loss: 3.1067 - accuracy: 0.1208 - val_loss: 3.1351 - val_accuracy: 0.1010\n",
      "\n",
      "Epoch 00002: val_accuracy did not improve from 0.14300\n",
      "Epoch 3/50\n",
      "100/100 [==============================] - 159s 2s/step - loss: 3.0952 - accuracy: 0.1223 - val_loss: 2.9634 - val_accuracy: 0.1690\n",
      "\n",
      "Epoch 00003: val_accuracy improved from 0.14300 to 0.16900, saving model to ./data/VGG16_1.hdf5\n",
      "Epoch 4/50\n",
      "100/100 [==============================] - 166s 2s/step - loss: 2.8858 - accuracy: 0.1661 - val_loss: 2.6945 - val_accuracy: 0.2140\n",
      "\n",
      "Epoch 00004: val_accuracy improved from 0.16900 to 0.21400, saving model to ./data/VGG16_1.hdf5\n",
      "Epoch 5/50\n",
      "100/100 [==============================] - 159s 2s/step - loss: 2.6364 - accuracy: 0.2331 - val_loss: 2.7665 - val_accuracy: 0.2240\n",
      "\n",
      "Epoch 00005: val_accuracy improved from 0.21400 to 0.22400, saving model to ./data/VGG16_1.hdf5\n",
      "Epoch 6/50\n",
      "100/100 [==============================] - 159s 2s/step - loss: 2.5133 - accuracy: 0.2660 - val_loss: 2.5142 - val_accuracy: 0.3030\n",
      "\n",
      "Epoch 00006: val_accuracy improved from 0.22400 to 0.30300, saving model to ./data/VGG16_1.hdf5\n",
      "Epoch 7/50\n",
      "100/100 [==============================] - 159s 2s/step - loss: 2.4167 - accuracy: 0.2985 - val_loss: 2.1500 - val_accuracy: 0.3420\n",
      "\n",
      "Epoch 00007: val_accuracy improved from 0.30300 to 0.34200, saving model to ./data/VGG16_1.hdf5\n",
      "Epoch 8/50\n",
      "100/100 [==============================] - 159s 2s/step - loss: 2.3698 - accuracy: 0.3078 - val_loss: 2.2866 - val_accuracy: 0.3110\n",
      "\n",
      "Epoch 00008: val_accuracy did not improve from 0.34200\n",
      "Epoch 9/50\n",
      "100/100 [==============================] - 159s 2s/step - loss: 2.2720 - accuracy: 0.3393 - val_loss: 2.2326 - val_accuracy: 0.3270\n",
      "\n",
      "Epoch 00009: val_accuracy did not improve from 0.34200\n",
      "Epoch 10/50\n",
      "100/100 [==============================] - 159s 2s/step - loss: 2.2313 - accuracy: 0.3604 - val_loss: 1.8903 - val_accuracy: 0.3770\n",
      "\n",
      "Epoch 00010: val_accuracy improved from 0.34200 to 0.37700, saving model to ./data/VGG16_1.hdf5\n",
      "Epoch 11/50\n",
      "100/100 [==============================] - 159s 2s/step - loss: 2.1637 - accuracy: 0.3714 - val_loss: 2.1377 - val_accuracy: 0.3840\n",
      "\n",
      "Epoch 00011: val_accuracy improved from 0.37700 to 0.38400, saving model to ./data/VGG16_1.hdf5\n",
      "Epoch 12/50\n",
      "100/100 [==============================] - 159s 2s/step - loss: 2.1376 - accuracy: 0.3814 - val_loss: 2.2820 - val_accuracy: 0.3700\n",
      "\n",
      "Epoch 00012: val_accuracy did not improve from 0.38400\n",
      "Epoch 13/50\n",
      "100/100 [==============================] - 158s 2s/step - loss: 2.0623 - accuracy: 0.3977 - val_loss: 2.2322 - val_accuracy: 0.3980\n",
      "\n",
      "Epoch 00013: val_accuracy improved from 0.38400 to 0.39800, saving model to ./data/VGG16_1.hdf5\n",
      "Epoch 14/50\n",
      "100/100 [==============================] - 158s 2s/step - loss: 2.0016 - accuracy: 0.4168 - val_loss: 2.0921 - val_accuracy: 0.3880\n",
      "\n",
      "Epoch 00014: val_accuracy did not improve from 0.39800\n",
      "Epoch 15/50\n",
      "100/100 [==============================] - 159s 2s/step - loss: 1.9546 - accuracy: 0.4309 - val_loss: 2.0382 - val_accuracy: 0.4260\n",
      "\n",
      "Epoch 00015: val_accuracy improved from 0.39800 to 0.42600, saving model to ./data/VGG16_1.hdf5\n",
      "Epoch 16/50\n",
      "100/100 [==============================] - 159s 2s/step - loss: 1.9085 - accuracy: 0.4390 - val_loss: 2.0206 - val_accuracy: 0.3980\n",
      "\n",
      "Epoch 00016: val_accuracy did not improve from 0.42600\n",
      "Epoch 17/50\n",
      "100/100 [==============================] - 164s 2s/step - loss: 1.8768 - accuracy: 0.4467 - val_loss: 1.9095 - val_accuracy: 0.4232\n",
      "\n",
      "Epoch 00017: val_accuracy did not improve from 0.42600\n",
      "Epoch 18/50\n",
      "100/100 [==============================] - 158s 2s/step - loss: 1.8505 - accuracy: 0.4587 - val_loss: 1.9297 - val_accuracy: 0.4600\n",
      "\n",
      "Epoch 00018: val_accuracy improved from 0.42600 to 0.46000, saving model to ./data/VGG16_1.hdf5\n",
      "Epoch 19/50\n",
      "100/100 [==============================] - 159s 2s/step - loss: 1.8236 - accuracy: 0.4615 - val_loss: 2.0073 - val_accuracy: 0.4300\n",
      "\n",
      "Epoch 00019: val_accuracy did not improve from 0.46000\n",
      "Epoch 20/50\n",
      "100/100 [==============================] - 159s 2s/step - loss: 1.8085 - accuracy: 0.4720 - val_loss: 1.8936 - val_accuracy: 0.4310\n",
      "\n",
      "Epoch 00020: val_accuracy did not improve from 0.46000\n",
      "Epoch 21/50\n",
      "100/100 [==============================] - 159s 2s/step - loss: 1.6813 - accuracy: 0.5019 - val_loss: 1.9504 - val_accuracy: 0.4580\n",
      "\n",
      "Epoch 00021: val_accuracy did not improve from 0.46000\n",
      "Epoch 22/50\n",
      "100/100 [==============================] - 159s 2s/step - loss: 1.5643 - accuracy: 0.5373 - val_loss: 2.1325 - val_accuracy: 0.4450\n",
      "\n",
      "Epoch 00022: val_accuracy did not improve from 0.46000\n",
      "Epoch 23/50\n",
      "100/100 [==============================] - 159s 2s/step - loss: 1.5931 - accuracy: 0.5308 - val_loss: 2.0259 - val_accuracy: 0.4600\n",
      "\n",
      "Epoch 00023: val_accuracy did not improve from 0.46000\n",
      "Epoch 24/50\n",
      "100/100 [==============================] - 159s 2s/step - loss: 1.5966 - accuracy: 0.5261 - val_loss: 1.7138 - val_accuracy: 0.4920\n",
      "\n",
      "Epoch 00024: val_accuracy improved from 0.46000 to 0.49200, saving model to ./data/VGG16_1.hdf5\n",
      "Epoch 25/50\n",
      "100/100 [==============================] - 159s 2s/step - loss: 1.5644 - accuracy: 0.5342 - val_loss: 1.9100 - val_accuracy: 0.4920\n",
      "\n",
      "Epoch 00025: val_accuracy did not improve from 0.49200\n",
      "Epoch 26/50\n",
      "100/100 [==============================] - 158s 2s/step - loss: 1.5685 - accuracy: 0.5395 - val_loss: 1.8381 - val_accuracy: 0.4730\n",
      "\n",
      "Epoch 00026: val_accuracy did not improve from 0.49200\n",
      "Epoch 27/50\n",
      "100/100 [==============================] - 158s 2s/step - loss: 1.5735 - accuracy: 0.5336 - val_loss: 1.4727 - val_accuracy: 0.4870\n",
      "\n",
      "Epoch 00027: val_accuracy did not improve from 0.49200\n",
      "Epoch 28/50\n",
      "100/100 [==============================] - 159s 2s/step - loss: 1.2349 - accuracy: 0.6338 - val_loss: 1.9167 - val_accuracy: 0.4570\n",
      "\n",
      "Epoch 00028: val_accuracy did not improve from 0.49200\n",
      "Epoch 29/50\n",
      "100/100 [==============================] - 158s 2s/step - loss: 1.1770 - accuracy: 0.6444 - val_loss: 2.0087 - val_accuracy: 0.4570\n",
      "\n",
      "Epoch 00029: val_accuracy did not improve from 0.49200\n",
      "Epoch 30/50\n",
      "100/100 [==============================] - 158s 2s/step - loss: 1.2251 - accuracy: 0.6285 - val_loss: 2.1003 - val_accuracy: 0.4580\n",
      "\n",
      "Epoch 00030: val_accuracy did not improve from 0.49200\n",
      "Epoch 31/50\n",
      "100/100 [==============================] - 158s 2s/step - loss: 1.2087 - accuracy: 0.6370 - val_loss: 1.8836 - val_accuracy: 0.4510\n",
      "\n",
      "Epoch 00031: val_accuracy did not improve from 0.49200\n",
      "Epoch 32/50\n",
      "100/100 [==============================] - 158s 2s/step - loss: 1.2225 - accuracy: 0.6328 - val_loss: 1.7155 - val_accuracy: 0.4800\n",
      "\n",
      "Epoch 00032: val_accuracy did not improve from 0.49200\n",
      "Epoch 33/50\n",
      "100/100 [==============================] - 157s 2s/step - loss: 1.1933 - accuracy: 0.6423 - val_loss: 2.0361 - val_accuracy: 0.4940\n",
      "\n",
      "Epoch 00033: val_accuracy improved from 0.49200 to 0.49400, saving model to ./data/VGG16_1.hdf5\n",
      "Epoch 34/50\n",
      "100/100 [==============================] - 158s 2s/step - loss: 1.2048 - accuracy: 0.6401 - val_loss: 1.5992 - val_accuracy: 0.4944\n",
      "\n",
      "Epoch 00034: val_accuracy improved from 0.49400 to 0.49440, saving model to ./data/VGG16_1.hdf5\n",
      "Epoch 35/50\n",
      "100/100 [==============================] - 159s 2s/step - loss: 0.6905 - accuracy: 0.7899 - val_loss: 2.0588 - val_accuracy: 0.5160\n",
      "\n",
      "Epoch 00035: val_accuracy improved from 0.49440 to 0.51600, saving model to ./data/VGG16_1.hdf5\n",
      "Epoch 36/50\n",
      "100/100 [==============================] - 158s 2s/step - loss: 0.7262 - accuracy: 0.7793 - val_loss: 2.4579 - val_accuracy: 0.4540\n",
      "\n",
      "Epoch 00036: val_accuracy did not improve from 0.51600\n",
      "Epoch 37/50\n",
      "100/100 [==============================] - 158s 2s/step - loss: 0.7585 - accuracy: 0.7713 - val_loss: 2.1862 - val_accuracy: 0.4660\n",
      "\n",
      "Epoch 00037: val_accuracy did not improve from 0.51600\n",
      "Epoch 38/50\n",
      "100/100 [==============================] - 158s 2s/step - loss: 0.7564 - accuracy: 0.7705 - val_loss: 2.1811 - val_accuracy: 0.4870\n",
      "\n",
      "Epoch 00038: val_accuracy did not improve from 0.51600\n",
      "Epoch 39/50\n",
      "100/100 [==============================] - 157s 2s/step - loss: 0.7862 - accuracy: 0.7642 - val_loss: 2.4292 - val_accuracy: 0.4700\n",
      "\n",
      "Epoch 00039: val_accuracy did not improve from 0.51600\n",
      "Epoch 40/50\n",
      "100/100 [==============================] - 158s 2s/step - loss: 0.8037 - accuracy: 0.7548 - val_loss: 2.4897 - val_accuracy: 0.4700\n",
      "\n",
      "Epoch 00040: val_accuracy did not improve from 0.51600\n",
      "Epoch 41/50\n",
      "100/100 [==============================] - 158s 2s/step - loss: 0.7158 - accuracy: 0.7851 - val_loss: 2.7599 - val_accuracy: 0.4990\n",
      "\n",
      "Epoch 00041: val_accuracy did not improve from 0.51600\n",
      "Epoch 42/50\n",
      "100/100 [==============================] - 157s 2s/step - loss: 0.3752 - accuracy: 0.8863 - val_loss: 2.6638 - val_accuracy: 0.4850\n",
      "\n",
      "Epoch 00042: val_accuracy did not improve from 0.51600\n",
      "Epoch 43/50\n",
      "100/100 [==============================] - 158s 2s/step - loss: 0.4201 - accuracy: 0.8782 - val_loss: 3.2385 - val_accuracy: 0.4710\n",
      "\n",
      "Epoch 00043: val_accuracy did not improve from 0.51600\n",
      "Epoch 44/50\n",
      "100/100 [==============================] - 158s 2s/step - loss: 0.4493 - accuracy: 0.8606 - val_loss: 2.5403 - val_accuracy: 0.4910\n",
      "\n",
      "Epoch 00044: val_accuracy did not improve from 0.51600\n",
      "Epoch 45/50\n",
      "100/100 [==============================] - 158s 2s/step - loss: 0.4721 - accuracy: 0.8594 - val_loss: 2.8189 - val_accuracy: 0.4680\n",
      "\n",
      "Epoch 00045: val_accuracy did not improve from 0.51600\n",
      "Epoch 46/50\n",
      "100/100 [==============================] - 158s 2s/step - loss: 0.4892 - accuracy: 0.8516 - val_loss: 2.5614 - val_accuracy: 0.4650\n",
      "\n",
      "Epoch 00046: val_accuracy did not improve from 0.51600\n",
      "Epoch 47/50\n",
      "100/100 [==============================] - 158s 2s/step - loss: 0.4709 - accuracy: 0.8591 - val_loss: 3.5430 - val_accuracy: 0.4800\n",
      "\n",
      "Epoch 00047: val_accuracy did not improve from 0.51600\n",
      "Epoch 48/50\n",
      "100/100 [==============================] - 158s 2s/step - loss: 0.4042 - accuracy: 0.8804 - val_loss: 3.2321 - val_accuracy: 0.4560\n",
      "\n",
      "Epoch 00048: val_accuracy did not improve from 0.51600\n",
      "Epoch 49/50\n",
      "100/100 [==============================] - 158s 2s/step - loss: 0.2504 - accuracy: 0.9252 - val_loss: 2.8991 - val_accuracy: 0.4710\n",
      "\n",
      "Epoch 00049: val_accuracy did not improve from 0.51600\n",
      "Epoch 50/50\n",
      "100/100 [==============================] - 158s 2s/step - loss: 0.2744 - accuracy: 0.9172 - val_loss: 3.9505 - val_accuracy: 0.4800\n",
      "\n",
      "Epoch 00050: val_accuracy did not improve from 0.51600\n"
     ]
    }
   ],
   "source": [
    "\n",
    "#---------------------------------------------------------------------\n",
    "from keras.callbacks import ModelCheckpoint, EarlyStopping\n",
    "\n",
    "modelpath = \"./data/VGG16_1.hdf5\"\n",
    "\n",
    "checkpoint = ModelCheckpoint(filepath= modelpath, monitor='val_accuracy', verbose=1, \n",
    "                             save_best_only=True, save_weights_only=False, mode='auto', period=1)\n",
    "\n",
    "early = EarlyStopping(monitor='val_accuracy', min_delta=0, patience=20, verbose=1, mode='auto')\n",
    "\n",
    "\n",
    "hist = model.fit_generator(steps_per_epoch=100,generator=img_iter, \n",
    "                          validation_data= img_iter_val, validation_steps=10,epochs=50,callbacks=[checkpoint,early])\n"
   ]
  },
  {
   "cell_type": "code",
   "execution_count": 16,
   "metadata": {},
   "outputs": [
    {
     "data": {
      "image/png": "[encoded data removed]",
      "text/plain": [
       "<Figure size 432x288 with 1 Axes>"
      ]
     },
     "metadata": {
      "needs_background": "light"
     },
     "output_type": "display_data"
    }
   ],
   "source": [
    "import matplotlib.pyplot as plt\n",
    "plt.plot(hist.history['loss'])\n",
    "plt.plot(hist.history['val_loss'])\n",
    "plt.title(\"Loss curve\")\n",
    "plt.ylabel(\"Loss\")\n",
    "plt.xlabel(\"Epoch\")\n",
    "plt.legend([\"loss\",\"Validation Loss\"])\n",
    "plt.show()"
   ]
  },
  {
   "cell_type": "code",
   "execution_count": 17,
   "metadata": {},
   "outputs": [
    {
     "data": {
      "image/png": "[encoded data removed]",
      "text/plain": [
       "<Figure size 432x288 with 1 Axes>"
      ]
     },
     "metadata": {
      "needs_background": "light"
     },
     "output_type": "display_data"
    }
   ],
   "source": [
    "import matplotlib.pyplot as plt\n",
    "plt.plot(hist.history['accuracy'])\n",
    "plt.plot(hist.history['val_accuracy'])\n",
    "plt.title(\"Accuracy curve\")\n",
    "plt.ylabel(\"Accuracy\")\n",
    "plt.xlabel(\"Epoch\")\n",
    "plt.legend([\"Accuracy\",\"Validation Accuracy\"])\n",
    "plt.show()"
   ]
  },
  {
   "cell_type": "code",
   "execution_count": 19,
   "metadata": {},
   "outputs": [
    {
     "name": "stdout",
     "output_type": "stream",
     "text": [
      "Found 13812 images belonging to 1 classes.\n"
     ]
    }
   ],
   "source": [
    "test_datagen = ImageDataGenerator()\n",
    "test_generator = test_datagen.flow_from_directory(\n",
    "    directory='./data/images/images/test',\n",
    "    target_size=(224, 224),\n",
    "    batch_size=1,\n",
    "    class_mode=None,\n",
    "    shuffle=False\n",
    ")"
   ]
  },
  {
   "cell_type": "code",
   "execution_count": 20,
   "metadata": {},
   "outputs": [
    {
     "data": {
      "text/plain": [
       "13812"
      ]
     },
     "execution_count": 20,
     "metadata": {},
     "output_type": "execute_result"
    }
   ],
   "source": [
    "len(test_generator)"
   ]
  },
  {
   "cell_type": "code",
   "execution_count": 21,
   "metadata": {},
   "outputs": [
    {
     "name": "stdout",
     "output_type": "stream",
     "text": [
      "13812/13812 [==============================] - 154s 11ms/step\n"
     ]
    }
   ],
   "source": [
    "from keras.models import load_model\n",
    "\n",
    "\n",
    "saved_model = load_model('./data/VGG16_1.hdf5')\n",
    "\n",
    "output = saved_model.predict_generator(test_generator, verbose=1, steps= len(test_generator))"
   ]
  },
  {
   "cell_type": "code",
   "execution_count": 22,
   "metadata": {},
   "outputs": [],
   "source": [
    "predicted_class_indices=np.argmax(output,axis=1)\n",
    "labels = (img_iter.class_indices)\n",
    "labels = dict((v,k) for k,v in labels.items())\n",
    "predictions = [labels[k] for k in predicted_class_indices]"
   ]
  },
  {
   "cell_type": "code",
   "execution_count": 23,
   "metadata": {},
   "outputs": [],
   "source": [
    "filenames=test_generator.filenames\n",
    "results=pd.DataFrame({\"filename\":filenames,\n",
    "                      \"Predictions\":predictions})"
   ]
  },
  {
   "cell_type": "code",
   "execution_count": 24,
   "metadata": {},
   "outputs": [
    {
     "data": {
      "text/html": [
       "<div>\n",
       "<style scoped>\n",
       "    .dataframe tbody tr th:only-of-type {\n",
       "        vertical-align: middle;\n",
       "    }\n",
       "\n",
       "    .dataframe tbody tr th {\n",
       "        vertical-align: top;\n",
       "    }\n",
       "\n",
       "    .dataframe thead th {\n",
       "        text-align: right;\n",
       "    }\n",
       "</style>\n",
       "<table border=\"1\" class=\"dataframe\">\n",
       "  <thead>\n",
       "    <tr style=\"text-align: right;\">\n",
       "      <th></th>\n",
       "      <th>filename</th>\n",
       "      <th>Predictions</th>\n",
       "    </tr>\n",
       "  </thead>\n",
       "  <tbody>\n",
       "    <tr>\n",
       "      <th>0</th>\n",
       "      <td>image_test/image_1000095714_product_345301179.jpg</td>\n",
       "      <td>1160</td>\n",
       "    </tr>\n",
       "    <tr>\n",
       "      <th>1</th>\n",
       "      <td>image_test/image_1000139370_product_353636820.jpg</td>\n",
       "      <td>1320</td>\n",
       "    </tr>\n",
       "    <tr>\n",
       "      <th>2</th>\n",
       "      <td>image_test/image_1000221680_product_353626686.jpg</td>\n",
       "      <td>2280</td>\n",
       "    </tr>\n",
       "    <tr>\n",
       "      <th>3</th>\n",
       "      <td>image_test/image_1000434342_product_352882477.jpg</td>\n",
       "      <td>2403</td>\n",
       "    </tr>\n",
       "    <tr>\n",
       "      <th>4</th>\n",
       "      <td>image_test/image_1000524141_product_357695994.jpg</td>\n",
       "      <td>2585</td>\n",
       "    </tr>\n",
       "  </tbody>\n",
       "</table>\n",
       "</div>"
      ],
      "text/plain": [
       "                                            filename  Predictions\n",
       "0  image_test/image_1000095714_product_345301179.jpg         1160\n",
       "1  image_test/image_1000139370_product_353636820.jpg         1320\n",
       "2  image_test/image_1000221680_product_353626686.jpg         2280\n",
       "3  image_test/image_1000434342_product_352882477.jpg         2403\n",
       "4  image_test/image_1000524141_product_357695994.jpg         2585"
      ]
     },
     "execution_count": 24,
     "metadata": {},
     "output_type": "execute_result"
    }
   ],
   "source": [
    "results.head(5)"
   ]
  },
  {
   "cell_type": "markdown",
   "metadata": {},
   "source": [
    "# saving the final reslut to a csv"
   ]
  },
  {
   "cell_type": "code",
   "execution_count": 26,
   "metadata": {},
   "outputs": [],
   "source": [
    "# Merging is not working\n",
    "df_merged = pd.merge(left=X_test, right=results, on='filename', right_index=True)\n",
    "df_merged = df_merged.drop(['filename'], axis=1)\n",
    "df_merged = df_merged.rename(columns={'Predictions':'prdtypecode'})\n",
    "df_merged.head(5)"
   ]
  },
  {
   "cell_type": "code",
   "execution_count": null,
   "metadata": {},
   "outputs": [],
   "source": [
    "df_merged.to_csv('./result.csv', encoding='utf-8', index=True)"
   ]
  }
 ],
 "metadata": {
  "kernelspec": {
   "display_name": "Python 3",
   "language": "python",
   "name": "python3"
  },
  "language_info": {
   "codemirror_mode": {
    "name": "ipython",
    "version": 3
   },
   "file_extension": ".py",
   "mimetype": "text/x-python",
   "name": "python",
   "nbconvert_exporter": "python",
   "pygments_lexer": "ipython3",
   "version": "3.7.3"
  }
 },
 "nbformat": 4,
 "nbformat_minor": 4
}
